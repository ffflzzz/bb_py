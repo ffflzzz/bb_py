{
 "cells": [
  {
   "cell_type": "code",
   "execution_count": 2,
   "metadata": {},
   "outputs": [],
   "source": [
    "import os\n",
    "import langchain\n",
    "from langchain_deepseek import ChatDeepSeek\n"
   ]
  },
  {
   "cell_type": "code",
   "execution_count": 3,
   "metadata": {},
   "outputs": [],
   "source": [
    "os.environ[\"DEEPSEEK_API_KEY\"] = \"sk-58164d4e3ef94c32b37d8097f072dbd8\""
   ]
  },
  {
   "cell_type": "code",
   "execution_count": 4,
   "metadata": {},
   "outputs": [],
   "source": [
    "from langchain.schema import AIMessage, HumanMessage, SystemMessage\n",
    "from langchain_deepseek import ChatDeepSeek"
   ]
  },
  {
   "cell_type": "code",
   "execution_count": 6,
   "metadata": {},
   "outputs": [
    {
     "name": "stderr",
     "output_type": "stream",
     "text": [
      "C:\\Users\\18122\\AppData\\Local\\Temp\\ipykernel_19820\\3280711760.py:6: LangChainDeprecationWarning: The method `BaseChatModel.__call__` was deprecated in langchain-core 0.1.7 and will be removed in 1.0. Use :meth:`~invoke` instead.\n",
      "  response = chat(message)\n"
     ]
    },
    {
     "name": "stdout",
     "output_type": "stream",
     "text": [
      "我热爱编程。\n"
     ]
    }
   ],
   "source": [
    "chat = ChatDeepSeek(model=\"deepseek-chat\", temperature=0.5 )\n",
    "message = [\n",
    "    SystemMessage(content=\"你是一个翻译，把我输入的英文翻译成中文。\"),\n",
    "    HumanMessage(content=\"I love programming.\")\n",
    "]\n",
    "response = chat(message)\n",
    "print(response.content,end=\"\\n\")"
   ]
  },
  {
   "cell_type": "code",
   "execution_count": 9,
   "metadata": {},
   "outputs": [
    {
     "name": "stdout",
     "output_type": "stream",
     "text": [
      "现在你是一名语文老师，你要给小明出题，题目要求是简单，请你用中文写出5道题。\n"
     ]
    }
   ],
   "source": [
    "\n",
    "from langchain import PromptTemplate\n",
    "\n",
    "template = \"\"\"现在你是一名{科目}老师，你要给{学生}出题，题目要求是{要求}，请你用{语言}写出{数量}道题。\"\"\"\n",
    "\n",
    "prompt = PromptTemplate(\n",
    "    input_variables=[\"科目\", \"学生\", \"要求\", \"语言\", \"数量\"],\n",
    "    template=template,\n",
    ")\n",
    "\n",
    "final_prompt = prompt.format(\n",
    "    科目=\"语文\",\n",
    "    学生=\"小明\",\n",
    "    要求=\"简单\",\n",
    "    语言=\"中文\",\n",
    "    数量=5,\n",
    ")\n",
    "print(final_prompt)"
   ]
  }
 ],
 "metadata": {
  "kernelspec": {
   "display_name": "agent",
   "language": "python",
   "name": "python3"
  },
  "language_info": {
   "codemirror_mode": {
    "name": "ipython",
    "version": 3
   },
   "file_extension": ".py",
   "mimetype": "text/x-python",
   "name": "python",
   "nbconvert_exporter": "python",
   "pygments_lexer": "ipython3",
   "version": "3.11.11"
  }
 },
 "nbformat": 4,
 "nbformat_minor": 2
}
